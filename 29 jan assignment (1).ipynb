{
 "cells": [
  {
   "cell_type": "code",
   "execution_count": null,
   "id": "2e306d53-cb9b-4cde-be51-8bde5d5b747b",
   "metadata": {},
   "outputs": [],
   "source": [
    "1)Python was created by Guido van Rossum.\n",
    "2)Python supports  Object-oriented programming and structured programming.\n",
    "3)Yes, Python is a case−sensitive programming language when dealing with identifiers.\n",
    "4).py is the correct extension of a python file.\n",
    "5)Python is an interpreted language.\n",
    "6)Modules, function bodies, class defination are a few blocks of code in Python.\n",
    "7)# is used for single line comment in python.\n",
    "8)We can use the sys. version method  to find the version of the Python.\n",
    "9)Lambda.\n",
    "10)PIP(pip Install Packages) allows you to install and manage packages that aren't part of the Python standard library.\n",
    "11)print( ) function, type( ) function, input( ) function are some of the built-in functions in Python.\n",
    "12)An identifier can have a maximum length of 79 characters in Python.\n",
    "13)Advantages of Python:\n",
    "     i)Simple to Use and Understand\n",
    "    ii)Free and Open-Source\n",
    "   iii)Productivity has Increased\n",
    "    iv)Interpreted Language\n",
    "     v)Dynamically Typed\n",
    "    vi)Portability\n",
    "   vii)Supportive community\n",
    "14)Memory management in Python involves a private heap containing all Python objects and data structures.\n",
    "15) i)Open a browser to the Python website and download the Windows installer.\n",
    "   ii)Double click on the downloaded file and install Python for all users, and ensure that Python is added to your path. Click on Install now to begin.\n",
    "  iii)After the installation is complete, click Disable path length limit and then Close.\n",
    "   iv) Click Close to end the installation.\n",
    "16)Yes, identation is required in Python"
   ]
  },
  {
   "cell_type": "code",
   "execution_count": null,
   "id": "bb267d25-6760-4771-bdf9-c70cc5713c3b",
   "metadata": {},
   "outputs": [],
   "source": []
  }
 ],
 "metadata": {
  "kernelspec": {
   "display_name": "Python 3 (ipykernel)",
   "language": "python",
   "name": "python3"
  },
  "language_info": {
   "codemirror_mode": {
    "name": "ipython",
    "version": 3
   },
   "file_extension": ".py",
   "mimetype": "text/x-python",
   "name": "python",
   "nbconvert_exporter": "python",
   "pygments_lexer": "ipython3",
   "version": "3.10.8"
  }
 },
 "nbformat": 4,
 "nbformat_minor": 5
}
